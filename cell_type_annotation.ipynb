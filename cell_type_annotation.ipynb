{
 "cells": [
  {
   "cell_type": "markdown",
   "id": "6eb46943-fa8e-401d-9486-a657611c38d7",
   "metadata": {},
   "source": [
    "Load the GEX data using Scanpy\n",
    "Make sure you're in an environment with scanpy, pandas, and matplotlib installed"
   ]
  },
  {
   "cell_type": "code",
   "execution_count": null,
   "id": "81176f95-18aa-4c4b-87c8-e136f569e307",
   "metadata": {},
   "outputs": [],
   "source": [
    "import scanpy as sc\n",
    "import pandas as pd\n",
    "\n",
    "adata = sc.read_10x_h5(\"filtered_feature_bc_matrix.h5\")\n",
    "adata.var_names_make_unique()"
   ]
  },
  {
   "cell_type": "markdown",
   "id": "bc2d37fa-250e-4290-beb9-78f35eebc380",
   "metadata": {},
   "source": [
    "Basic Preprocessing"
   ]
  },
  {
   "cell_type": "code",
   "execution_count": null,
   "id": "fdaae7e1-9d50-4670-8c3d-ac0e3873d22a",
   "metadata": {},
   "outputs": [],
   "source": [
    "sc.pp.filter_cells(adata, min_genes=200)\n",
    "sc.pp.filter_genes(adata, min_cells=3)\n",
    "adata.var['mt'] = adata.var_names.str.startswith('MT-')\n",
    "sc.pp.calculate_qc_metrics(adata, qc_vars=['mt'], percent_top=None, log1p=False, inplace=True)\n",
    "\n",
    "# Normalize and log transform\n",
    "sc.pp.normalize_total(adata, target_sum=1e4)\n",
    "sc.pp.log1p(adata)\n",
    "\n",
    "# Highly variable genes\n",
    "sc.pp.highly_variable_genes(adata, min_mean=0.0125, max_mean=3, min_disp=0.5)\n",
    "adata = adata[:, adata.var.highly_variable]\n",
    "\n",
    "# Scale and PCA\n",
    "sc.pp.scale(adata, max_value=10)\n",
    "sc.tl.pca(adata, svd_solver='arpack')"
   ]
  },
  {
   "cell_type": "markdown",
   "id": "c15c196e-988d-448e-9dc5-4f8cdf8bbf0d",
   "metadata": {},
   "source": [
    "Clustering"
   ]
  },
  {
   "cell_type": "code",
   "execution_count": null,
   "id": "b7dea5f3-f8f6-4139-889c-057f170b4b05",
   "metadata": {},
   "outputs": [],
   "source": [
    "sc.pp.neighbors(adata, n_neighbors=10, n_pcs=40)\n",
    "sc.tl.umap(adata)\n",
    "sc.tl.leiden(adata, resolution=0.5)  # Adjust resolution if needed"
   ]
  },
  {
   "cell_type": "markdown",
   "id": "6b7c1a22-f9ab-422c-92c4-6a9cd9da4562",
   "metadata": {},
   "source": [
    "Find Marker Genes for Each Cluster"
   ]
  },
  {
   "cell_type": "code",
   "execution_count": null,
   "id": "e5d0dcbb-7ec1-4c50-8b8f-60aa6076eaf6",
   "metadata": {},
   "outputs": [],
   "source": [
    "sc.tl.rank_genes_groups(adata, 'leiden', method='wilcoxon')\n",
    "sc.pl.rank_genes_groups(adata, n_genes=25, sharey=False)"
   ]
  },
  {
   "cell_type": "markdown",
   "id": "dfddfb8f-afca-434c-b546-5fb1c7b32000",
   "metadata": {},
   "source": [
    "Save the markers for each cluster (optional, but potentially helpful)"
   ]
  },
  {
   "cell_type": "code",
   "execution_count": null,
   "id": "5717f64b-987d-49fc-b6bb-b28ea659750e",
   "metadata": {},
   "outputs": [],
   "source": [
    "marker_df = sc.get.rank_genes_groups_df(adata, group=None)\n",
    "marker_df.to_csv(\"cluster_marker_genes.csv\", index=False)"
   ]
  },
  {
   "cell_type": "markdown",
   "id": "3ad3a713-e6d7-40ec-b79e-25a14c24a92b",
   "metadata": {},
   "source": [
    "Automatic Cell Type Annotation (Using Marker Matching)\n",
    "If you have a curated dictionary of marker genes:"
   ]
  },
  {
   "cell_type": "code",
   "execution_count": null,
   "id": "b43b8756-5f23-4c62-ba09-aebf18e0fb8d",
   "metadata": {},
   "outputs": [],
   "source": [
    "# Example dictionary\n",
    "marker_dict = {\n",
    "    \"T_cells\": [\"CD3D\", \"CD3E\", \"TRAC\"],\n",
    "    \"B_cells\": [\"CD19\", \"CD79A\"],\n",
    "    \"Myeloid\": [\"LYZ\", \"S100A8\", \"CD14\"],\n",
    "    \"Ductal\": [\"KRT19\", \"CFTR\", \"MUC1\"],\n",
    "    \"Endocrine\": [\"INS\", \"GCG\", \"SST\"]\n",
    "}"
   ]
  },
  {
   "cell_type": "code",
   "execution_count": null,
   "id": "0ef7e218-c18e-4bdf-a714-340522bb8ceb",
   "metadata": {},
   "outputs": [],
   "source": [
    "# Example dictionary with focus on pancreatic cancer and the cells that would be present there\n",
    "marker_dict_pancreas = {\n",
    "    # Exocrine\n",
    "    \"Acinar\":    [\"CPA1\", \"PRSS1\", \"AMY2A\", \"CEL\", \"CTRL\"],\n",
    "    \"Ductal\":    [\"KRT19\", \"SOX9\", \"CFTR\", \"SLC4A4\"],\n",
    "\n",
    "    # Endocrine\n",
    "    \"Beta\":      [\"INS\", \"IAPP\", \"CDC20B\"],\n",
    "    \"Alpha\":     [\"GCG\", \"ARX\", \"TTR\"],\n",
    "    \"Delta\":     [\"SST\", \"HHEX\"],\n",
    "    \"Gamma\":     [\"PPY\"],\n",
    "    \"Epsilon\":   [\"GHRL\"],\n",
    "\n",
    "    # Stromal / Mesenchymal\n",
    "    \"Pancreatic_Stellate\": [\"RGS5\", \"ACTA2\", \"PDGFRB\", \"DES\"],\n",
    "    \"Endothelial\":          [\"VWF\", \"PECAM1\", \"CDH5\", \"KDR\"],\n",
    "    \"Fibroblast_CAF\":       [\"FAP\", \"PDPN\", \"POSTN\", \"COL1A1\",\"THY1\"],\n",
    "\n",
    "    # Malignant epithelial\n",
    "    \"Malignant\": [\"EPCAM\", \"KRT19\", \"KRT18\", \"CEACAM5\", \"MUC1\"],\n",
    "\n",
    "    # Immune\n",
    "    \"T_cells\":  [\"CD3D\", \"CD3E\", \"CD8A\", \"CD4\"],\n",
    "    \"B_cells\":  [\"CD19\", \"MS4A1\", \"CD79A\"],\n",
    "    \"Myeloid\":  [\"LYZ\", \"CD14\", \"CD68\", \"CSF1R\"],\n",
    "    \"NK_cells\": [\"NCAM1\", \"KLRD1\", \"GNLY\"],\n",
    "    \"Dendritic\": [\"ITGAX\", \"CLEC9A\", \"CD1C\"],\n",
    "}"
   ]
  },
  {
   "cell_type": "markdown",
   "id": "dd2c6cbc-79af-462f-b22f-27aead582c1f",
   "metadata": {},
   "source": [
    "You can match top markers per cluster to this list:"
   ]
  },
  {
   "cell_type": "code",
   "execution_count": null,
   "id": "5e48f52b-4a25-4807-80de-4d1708d84d62",
   "metadata": {},
   "outputs": [],
   "source": [
    "def assign_cell_type(marker_df, marker_dict, top_n=10):\n",
    "    cluster_types = {}\n",
    "    for cluster in marker_df['group'].unique():\n",
    "        genes = marker_df[marker_df['group'] == cluster].head(top_n)['names'].tolist()\n",
    "        scores = {celltype: len(set(genes) & set(markers)) for celltype, markers in marker_dict.items()}\n",
    "        best_match = max(scores, key=scores.get)\n",
    "        cluster_types[cluster] = best_match if scores[best_match] > 0 else \"Unknown\"\n",
    "    return cluster_types\n",
    "\n",
    "cluster_annotations = assign_cell_type(marker_df, marker_dict)\n",
    "print(cluster_annotations)"
   ]
  },
  {
   "cell_type": "markdown",
   "id": "3dfed49e-0775-4692-9da9-029fa47b2250",
   "metadata": {},
   "source": [
    "Then add to your AnnData object:"
   ]
  },
  {
   "cell_type": "code",
   "execution_count": null,
   "id": "e6aef65c-85d1-48e1-b1e2-21304ac3ada1",
   "metadata": {},
   "outputs": [],
   "source": [
    "adata.obs['cell_type'] = adata.obs['leiden'].map(cluster_annotations)"
   ]
  }
 ],
 "metadata": {
  "kernelspec": {
   "display_name": "Python (cell_type_annotation-env)",
   "language": "python",
   "name": "cell_type_annotation-env"
  },
  "language_info": {
   "codemirror_mode": {
    "name": "ipython",
    "version": 3
   },
   "file_extension": ".py",
   "mimetype": "text/x-python",
   "name": "python",
   "nbconvert_exporter": "python",
   "pygments_lexer": "ipython3",
   "version": "3.10.17"
  }
 },
 "nbformat": 4,
 "nbformat_minor": 5
}
