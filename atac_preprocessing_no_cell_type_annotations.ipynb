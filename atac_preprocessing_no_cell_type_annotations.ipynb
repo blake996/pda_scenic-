{
 "cells": [
  {
   "cell_type": "markdown",
   "id": "91452d46-ea6b-4ec3-8689-7a6933377854",
   "metadata": {},
   "source": [
    "Pre-processing the ATAC seq data using the outputs from Cell Ranger ARC\n",
    "we should have:\n",
    "atac_fragments.tsv.gz\n",
    "atac_peaks.bed\n",
    "per_barcode_metrics.csv"
   ]
  },
  {
   "cell_type": "code",
   "execution_count": 34,
   "id": "76ec47f3-602b-443f-b8d5-7d9d04ac3d8c",
   "metadata": {},
   "outputs": [
    {
     "data": {
      "text/plain": [
       "'2.0a0'"
      ]
     },
     "execution_count": 34,
     "metadata": {},
     "output_type": "execute_result"
    }
   ],
   "source": [
    "import pycisTopic\n",
    "pycisTopic.__version__"
   ]
  },
  {
   "cell_type": "code",
   "execution_count": 35,
   "id": "3c43192d-fd94-4fa0-89c6-f534b4645e63",
   "metadata": {},
   "outputs": [],
   "source": [
    "# Set up output structure\n",
    "import os\n",
    "out_dir = \"outs\"\n",
    "os.makedirs(out_dir, exist_ok=True)\n",
    "\n",
    "# Define fragments mapping for your sample(s)\n",
    "fragments_dict = {\n",
    "    \"aspc1_1_untrimmed\": \"/scratcha/fmlab/blake01/yard/cellranger_arc/run_cellranger_arc_counts/aspc1_1_untrimmed/outs/atac_fragments.tsv.gz\"\n",
    "}\n"
   ]
  },
  {
   "cell_type": "markdown",
   "id": "8cc87785-332f-4288-a831-221ae5b0dc13",
   "metadata": {},
   "source": [
    "Getting pseudobulk profiles from cell annotations"
   ]
  },
  {
   "cell_type": "code",
   "execution_count": 36,
   "id": "5822c308-5485-4335-9ba9-ee7661ce5b48",
   "metadata": {},
   "outputs": [],
   "source": [
    "# Import pandas first\n",
    "import pandas as pd"
   ]
  },
  {
   "cell_type": "code",
   "execution_count": 37,
   "id": "9e9b9e5d-6934-488d-9493-fd9cb41f1dd6",
   "metadata": {},
   "outputs": [],
   "source": [
    "import scanpy as sc"
   ]
  },
  {
   "cell_type": "code",
   "execution_count": 46,
   "id": "5ddc7978-cdcf-40e6-913f-4c57106f0f00",
   "metadata": {},
   "outputs": [],
   "source": [
    "# load pre‐processed AnnData (with leiden clusters already computed) from rna seq pre-processing\n",
    "adata = sc.read_h5ad(\"adata_processed.h5ad\")"
   ]
  },
  {
   "cell_type": "code",
   "execution_count": 47,
   "id": "76fd1f2e-878a-4b28-adec-bd35fdc0412e",
   "metadata": {},
   "outputs": [
    {
     "data": {
      "text/html": [
       "<div>\n",
       "<style scoped>\n",
       "    .dataframe tbody tr th:only-of-type {\n",
       "        vertical-align: middle;\n",
       "    }\n",
       "\n",
       "    .dataframe tbody tr th {\n",
       "        vertical-align: top;\n",
       "    }\n",
       "\n",
       "    .dataframe thead th {\n",
       "        text-align: right;\n",
       "    }\n",
       "</style>\n",
       "<table border=\"1\" class=\"dataframe\">\n",
       "  <thead>\n",
       "    <tr style=\"text-align: right;\">\n",
       "      <th></th>\n",
       "      <th>leiden_cluster</th>\n",
       "      <th>sample_id</th>\n",
       "    </tr>\n",
       "    <tr>\n",
       "      <th>barcode</th>\n",
       "      <th></th>\n",
       "      <th></th>\n",
       "    </tr>\n",
       "  </thead>\n",
       "  <tbody>\n",
       "    <tr>\n",
       "      <th>AAACAGCCAAATTGCT-1</th>\n",
       "      <td>0</td>\n",
       "      <td>aspc1_1_untrimmed</td>\n",
       "    </tr>\n",
       "    <tr>\n",
       "      <th>AAACAGCCAATGCCCG-1</th>\n",
       "      <td>6</td>\n",
       "      <td>aspc1_1_untrimmed</td>\n",
       "    </tr>\n",
       "    <tr>\n",
       "      <th>AAACAGCCACACCAAC-1</th>\n",
       "      <td>4</td>\n",
       "      <td>aspc1_1_untrimmed</td>\n",
       "    </tr>\n",
       "    <tr>\n",
       "      <th>AAACAGCCACTTAGGC-1</th>\n",
       "      <td>3</td>\n",
       "      <td>aspc1_1_untrimmed</td>\n",
       "    </tr>\n",
       "    <tr>\n",
       "      <th>AAACAGCCATTGACAT-1</th>\n",
       "      <td>4</td>\n",
       "      <td>aspc1_1_untrimmed</td>\n",
       "    </tr>\n",
       "  </tbody>\n",
       "</table>\n",
       "</div>"
      ],
      "text/plain": [
       "                   leiden_cluster          sample_id\n",
       "barcode                                             \n",
       "AAACAGCCAAATTGCT-1              0  aspc1_1_untrimmed\n",
       "AAACAGCCAATGCCCG-1              6  aspc1_1_untrimmed\n",
       "AAACAGCCACACCAAC-1              4  aspc1_1_untrimmed\n",
       "AAACAGCCACTTAGGC-1              3  aspc1_1_untrimmed\n",
       "AAACAGCCATTGACAT-1              4  aspc1_1_untrimmed"
      ]
     },
     "execution_count": 47,
     "metadata": {},
     "output_type": "execute_result"
    }
   ],
   "source": [
    "# 1a) Suppose your AnnData is called `adata` and you ran:\n",
    "#     sc.tl.leiden(adata, key_added='leiden')\n",
    "#     so your cell barcodes live in adata.obs_names\n",
    "#     and the cluster labels in adata.obs['leiden'].\n",
    "\n",
    "cell_data = pd.DataFrame({\n",
    "    # index must be the exact barcodes in fragments.tsv.gz\n",
    "    # if it has a suffix (e.g. \"-1\") make sure it's identical\n",
    "    'barcode': adata.obs_names,   \n",
    "    # this is the grouping variable for pseudobulk\n",
    "    'leiden_cluster': adata.obs['leiden'].astype(str),\n",
    "    # CELLRANGER ARC sample ID: name of the run folder containing fragments.tsv.gz\n",
    "    'sample_id': 'aspc1_1_untrimmed'      \n",
    "})\n",
    "cell_data = cell_data.set_index('barcode')\n",
    "cell_data.head()"
   ]
  },
  {
   "cell_type": "markdown",
   "id": "cda8a3e0-b503-4f95-a6cc-c74ce1c43241",
   "metadata": {},
   "source": [
    "Load Chromosome Sizes"
   ]
  },
  {
   "cell_type": "code",
   "execution_count": 48,
   "id": "bca53142-aee6-4535-978c-e52f6ec542a6",
   "metadata": {},
   "outputs": [],
   "source": [
    "chromsizes = pd.read_table(\n",
    "    \"http://hgdownload.cse.ucsc.edu/goldenPath/hg38/bigZips/hg38.chrom.sizes\",\n",
    "    header=None,\n",
    "    names=[\"Chromosome\",\"End\"]\n",
    ")\n",
    "chromsizes.insert(1, \"Start\", 0)"
   ]
  },
  {
   "cell_type": "markdown",
   "id": "7801cbd6-d18d-4ce1-9ae2-5b1755072e59",
   "metadata": {},
   "source": [
    "Point to the fragments file:\n",
    "cell ranger arc places the fragments.tsv.gz file here\n",
    "<run_folder>/outs/atac_fragments.tsv.gz"
   ]
  },
  {
   "cell_type": "code",
   "execution_count": 49,
   "id": "ac8ce9af-c864-4ffc-8b6c-63873023a104",
   "metadata": {},
   "outputs": [],
   "source": [
    "from pathlib import Path\n",
    "\n",
    "run_folder = Path(\"/mnt/scratcha/fmlab/blake01/yard/cellranger_arc/run_cellranger_arc_counts/aspc1_1_untrimmed/outs\")\n",
    "fragments_dict = {\n",
    "    'aspc1_1_untrimmed': str(run_folder / \"atac_fragments.tsv.gz\")\n",
    "}"
   ]
  },
  {
   "cell_type": "markdown",
   "id": "cb7a892b-ad04-4676-a450-04e098c7dcc0",
   "metadata": {},
   "source": [
    "Export Pseudobulk\n",
    "This function will generate a fragments.tsv.gz and a bigwig file for each cell type defined by the variable parameter."
   ]
  },
  {
   "cell_type": "code",
   "execution_count": null,
   "id": "b21f4a7d-5efb-4910-8768-22dc1c32895a",
   "metadata": {},
   "outputs": [
    {
     "name": "stdout",
     "output_type": "stream",
     "text": [
      "2025-04-25 18:36:21,360 cisTopic     INFO     Splitting fragments by cell type.\n"
     ]
    }
   ],
   "source": [
    "from pycisTopic.pseudobulk_peak_calling import export_pseudobulk\n",
    "import os\n",
    "\n",
    "out_dir = \"outs\"\n",
    "os.makedirs(os.path.join(out_dir, \"consensus_peak_calling/pseudobulk_bed_files\"), exist_ok=True)\n",
    "os.makedirs(os.path.join(out_dir, \"consensus_peak_calling/pseudobulk_bw_files\"), exist_ok=True)\n",
    "\n",
    "bw_paths, bed_paths = export_pseudobulk(\n",
    "    input_data=cell_data,\n",
    "    variable=\"leiden_cluster\",\n",
    "    sample_id_col=\"sample_id\",\n",
    "    chromsizes=chromsizes,\n",
    "    bed_path=os.path.join(out_dir, \"consensus_peak_calling/pseudobulk_bed_files\"),\n",
    "    bigwig_path=os.path.join(out_dir, \"consensus_peak_calling/pseudobulk_bw_files\"),\n",
    "    path_to_fragments=fragments_dict,\n",
    "    n_cpu=10,\n",
    "    normalize_bigwig=True,\n",
    "    temp_dir=\"/tmp\",\n",
    "    split_pattern=None  # or \"-\" if your barcodes include sample ID\n",
    ")"
   ]
  },
  {
   "cell_type": "code",
   "execution_count": null,
   "id": "9dcddf1e-27a0-49e7-90f7-570950eb3119",
   "metadata": {},
   "outputs": [],
   "source": []
  },
  {
   "cell_type": "code",
   "execution_count": null,
   "id": "8d74493a-ddb0-4bab-99d2-d669a1e564ae",
   "metadata": {},
   "outputs": [],
   "source": []
  },
  {
   "cell_type": "markdown",
   "id": "f0b64178-a55c-41b2-ad68-3edf5959b344",
   "metadata": {},
   "source": [
    "Save the Paths! "
   ]
  },
  {
   "cell_type": "code",
   "execution_count": null,
   "id": "30d5460b-f085-44ae-9406-8009d7f8d9cc",
   "metadata": {},
   "outputs": [],
   "source": [
    "pd.Series(bw_paths, name=\"bigwig\").to_csv(f\"{out_dir}/bw_paths.tsv\", sep=\"\\t\")\n",
    "pd.Series(bed_paths, name=\"bed\").to_csv(f\"{out_dir}/bed_paths.tsv\", sep=\"\\t\")"
   ]
  },
  {
   "cell_type": "markdown",
   "id": "340090b1-1520-4235-9bdc-d7e0f3bc542f",
   "metadata": {},
   "source": [
    "Load QC metrics and pick high-quality cells"
   ]
  },
  {
   "cell_type": "code",
   "execution_count": null,
   "id": "f70b84bf-19f5-4b83-8eea-f981ebef275c",
   "metadata": {},
   "outputs": [],
   "source": [
    "# 1a) Read in the per‐barcode ATAC metrics\n",
    "metrics = pd.read_csv(\"per_barcode_metrics.csv\", index_col=0)"
   ]
  },
  {
   "cell_type": "code",
   "execution_count": null,
   "id": "1fe7fa5f-5b3d-43e1-9471-4b2b242c53ac",
   "metadata": {},
   "outputs": [],
   "source": [
    "# 1b) Define a simple QC filter, e.g. keep cells with ≥1,000 fragments & FRiP ≥20%\n",
    "keep_cells = metrics.query(\"n_fragments >= 1000 and FRIP >= 0.2\").index.tolist()\n",
    "\n",
    "print(f\"Keeping {len(keep_cells)} high‐quality ATAC cells\")"
   ]
  },
  {
   "cell_type": "markdown",
   "id": "79592a8d-9d96-4b01-9e87-82449abd6acf",
   "metadata": {},
   "source": [
    "Create a cisTopic object which is a peak x cell count matrix"
   ]
  },
  {
   "cell_type": "code",
   "execution_count": null,
   "id": "c9508887-e82e-4e0b-a400-772485e1ef42",
   "metadata": {},
   "outputs": [],
   "source": [
    "from pycisTopic.cistopic_classes import create_cistopic_object_from_csv\n",
    "\n",
    "# This utility will read your peaks, your fragments file, \n",
    "# and count overlaps only for the barcodes in 'keep_cells'.\n",
    "\n",
    "cst = create_cistopic_object_from_csv(\n",
    "    csvfile=\"atac_fragments.tsv.gz\",         # tab‐delimited with chr, start, end, barcode\n",
    "    sep=\"\\t\",\n",
    "    count_matrix=None,                        # we’ll generate it\n",
    "    cell_column=\"barcode\",\n",
    "    peak_file=\"atac_peaks.bed\",               # your peak definitions\n",
    "    valid_cells=keep_cells,                   # only these barcodes\n",
    "    format=\"BED\",                             # fragments in BED format\n",
    "    genome=\"hg38\"\n",
    ")"
   ]
  },
  {
   "cell_type": "code",
   "execution_count": null,
   "id": "afb5e240-02c2-4289-b6f4-e1a6eb072edf",
   "metadata": {},
   "outputs": [],
   "source": [
    "print(cst)  # sanity check: shows #peaks × #cells"
   ]
  },
  {
   "cell_type": "markdown",
   "id": "4beeb50b-7f9c-402d-af8d-2e64de21d60b",
   "metadata": {},
   "source": [
    "Filter low-information peaks and cells"
   ]
  },
  {
   "cell_type": "code",
   "execution_count": null,
   "id": "b249b79d-ca96-4e58-83dc-7b4d7078a7c9",
   "metadata": {},
   "outputs": [],
   "source": [
    "# 3a) Remove peaks seen in < 1% of cells\n",
    "min_cells = int(0.01 * len(keep_cells))\n",
    "cst.filter_peaks(min_cells=min_cells)"
   ]
  },
  {
   "cell_type": "code",
   "execution_count": null,
   "id": "61409e75-dfd5-4b17-a13d-67f1e60af76b",
   "metadata": {},
   "outputs": [],
   "source": [
    "# 3b) Optionally, remove cells with very few peaks\n",
    "cst.filter_cells(min_counts=500)"
   ]
  },
  {
   "cell_type": "code",
   "execution_count": null,
   "id": "6bf4426e-ea7d-4f3f-a677-fc13334711ca",
   "metadata": {},
   "outputs": [],
   "source": [
    "print(f\"After filtering: {cst.n_peaks} peaks, {cst.n_cells} cells\")"
   ]
  },
  {
   "cell_type": "code",
   "execution_count": null,
   "id": "668f65a5-fd9a-4dac-b571-6dd589971746",
   "metadata": {},
   "outputs": [],
   "source": []
  }
 ],
 "metadata": {
  "kernelspec": {
   "display_name": "scenicplus",
   "language": "python",
   "name": "scenicplus"
  },
  "language_info": {
   "codemirror_mode": {
    "name": "ipython",
    "version": 3
   },
   "file_extension": ".py",
   "mimetype": "text/x-python",
   "name": "python",
   "nbconvert_exporter": "python",
   "pygments_lexer": "ipython3",
   "version": "3.11.10"
  }
 },
 "nbformat": 4,
 "nbformat_minor": 5
}
