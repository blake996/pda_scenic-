{
 "cells": [
  {
   "cell_type": "markdown",
   "id": "41499cb7-c9f7-4804-b98f-b02669b85f84",
   "metadata": {},
   "source": [
    "Run SCENIC+ GRN Inference\n",
    "1:"
   ]
  },
  {
   "cell_type": "code",
   "execution_count": null,
   "id": "a10b7f81-3939-4426-a20c-a55c7d79f97f",
   "metadata": {},
   "outputs": [],
   "source": [
    "# 1a) Prepare expression matrix for SCENIC+\n",
    "ex_matrix = pd.DataFrame(adata.X.toarray(), \n",
    "                         index=adata.obs_names, \n",
    "                         columns=adata.var_names)\n",
    "\n",
    "# 1b) Infer co-expression modules\n",
    "network = sp.grnboost2(ex_matrix, \n",
    "                       tf_names=sp.default_tfs,  # default TF list\n",
    "                       verbose=True)"
   ]
  },
  {
   "cell_type": "markdown",
   "id": "439fe4eb-b288-421e-8f35-21e11da6b97a",
   "metadata": {},
   "source": [
    "2: Motif Pruning with RcisTarget"
   ]
  },
  {
   "cell_type": "code",
   "execution_count": null,
   "id": "8bfb3ba3-5b73-41a7-b16c-1c05c719527b",
   "metadata": {},
   "outputs": [],
   "source": [
    "# 2a) Load the hg38 motif rankings (downloaded ahead of time)\n",
    "db_fnames = [\"hg38__refseq-r80__10kb_upstream__500bp_downstream\"]  \n",
    "\n",
    "# 2b) Run motif enrichment to prune modules to regulons\n",
    "regulons = sp.prune2df(network, ex_matrix, db_fnames, n_workers=4)"
   ]
  },
  {
   "cell_type": "markdown",
   "id": "e8629580-1301-432e-af30-087315d075e3",
   "metadata": {},
   "source": [
    "3: Score Regulon Activity (AUCell)"
   ]
  },
  {
   "cell_type": "code",
   "execution_count": null,
   "id": "aecb97f3-470c-4e9f-856c-f4a702953057",
   "metadata": {},
   "outputs": [],
   "source": [
    "# 3a) Build regulon–gene mapping\n",
    "regulon_dict = sp.df2regulons(regulons, minsize=3)\n",
    "\n",
    "# 3b) Compute AUCell scores per cell\n",
    "auc_mtx = sp.score_regulons(ex_matrix, regulon_dict, n_workers=4)\n",
    "\n",
    "# 3c) Store in AnnData\n",
    "adata.obsm[\"X_regulonAUC\"] = auc_mtx.loc[adata.obs_names].values"
   ]
  },
  {
   "cell_type": "markdown",
   "id": "a9ca9408-f91d-43d3-a076-fb56b5ff8342",
   "metadata": {},
   "source": [
    "4: Explore Regulon Activities\n",
    "4a. UMAP in regulon space"
   ]
  },
  {
   "cell_type": "code",
   "execution_count": null,
   "id": "d6265f89-e2ab-4890-ad6c-91d6f1a00c41",
   "metadata": {},
   "outputs": [],
   "source": [
    "sc.pp.neighbors(adata, use_rep=\"X_regulonAUC\")\n",
    "sc.tl.umap(adata)\n",
    "sc.pl.umap(adata, color=[\"leiden\"], title=\"Clusters vs. Regulon-UMAP\")"
   ]
  },
  {
   "cell_type": "markdown",
   "id": "ee2b83dc-9acc-4543-b033-54d34ecface9",
   "metadata": {},
   "source": [
    "4b. Heatmap of top regulons per cluster"
   ]
  },
  {
   "cell_type": "code",
   "execution_count": null,
   "id": "2d222707-6be0-4be9-86cc-6ce3c5470bd0",
   "metadata": {},
   "outputs": [],
   "source": [
    "# Find top regulons driving each cluster\n",
    "sc.pl.rank_genes_groups_heatmap(adata, groupby=\"leiden\", use_rep=\"X_regulonAUC\",\n",
    "                               var_names=5, cmap=\"viridis\", show_gene_labels=True)"
   ]
  },
  {
   "cell_type": "markdown",
   "id": "7891c7b5-0765-406c-8cb9-d4802525911d",
   "metadata": {},
   "source": [
    "5: Post-hoc Cluster Annotation\n",
    "Now we’ll see which regulons (TF programs) are enriched in each of thw clusters. If we recognize a TF signature (e.g. MYC, TEAD1, HIF1A), we can assign a biological label to that cluster:"
   ]
  },
  {
   "cell_type": "code",
   "execution_count": null,
   "id": "83579a2a-416e-44d3-b6d4-868c7a445c27",
   "metadata": {},
   "outputs": [],
   "source": [
    "# This is an example... check to see what is where before asigning these random ass labels. \n",
    "cluster_to_regulon = {\n",
    "    \"0\": \"MYC_high\",\n",
    "    \"1\": \"Epithelial_HNF1B\",\n",
    "    \"2\": \"Stromal_TEAD1\",\n",
    "    # … etc.\n",
    "}\n",
    "\n",
    "adata.obs[\"regulon_cluster\"] = adata.obs[\"leiden\"].map(cluster_to_regulon)\n",
    "sc.pl.umap(adata, color=\"regulon_cluster\", legend_loc=\"on data\")\n"
   ]
  }
 ],
 "metadata": {
  "kernelspec": {
   "display_name": "scenicplus",
   "language": "python",
   "name": "scenicplus"
  },
  "language_info": {
   "codemirror_mode": {
    "name": "ipython",
    "version": 3
   },
   "file_extension": ".py",
   "mimetype": "text/x-python",
   "name": "python",
   "nbconvert_exporter": "python",
   "pygments_lexer": "ipython3",
   "version": "3.11.10"
  }
 },
 "nbformat": 4,
 "nbformat_minor": 5
}
